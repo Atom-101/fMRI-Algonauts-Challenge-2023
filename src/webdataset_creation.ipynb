{
 "cells": [
  {
   "cell_type": "code",
   "execution_count": 1,
   "id": "67ef37c9-d63b-4ac1-b21f-3f14676094aa",
   "metadata": {},
   "outputs": [
    {
     "name": "stdout",
     "output_type": "stream",
     "text": [
      "device: cuda\n"
     ]
    }
   ],
   "source": [
    "import json\n",
    "import random\n",
    "import copy\n",
    "\n",
    "import time \n",
    "import numpy as np\n",
    "import matplotlib.pyplot as plt\n",
    "import cv2\n",
    "import h5py\n",
    "import os\n",
    "import torch\n",
    "\n",
    "from tqdm import tqdm\n",
    "from PIL import Image\n",
    "from sklearn.preprocessing import StandardScaler\n",
    "\n",
    "import webdataset as wds\n",
    "import sys\n",
    "\n",
    "from utils import seed_everything\n",
    "\n",
    "%load_ext autoreload\n",
    "%autoreload 2\n",
    "\n",
    "device = torch.device('cuda' if torch.cuda.is_available() else 'cpu')\n",
    "print(\"device:\",device)"
   ]
  },
  {
   "cell_type": "code",
   "execution_count": 2,
   "id": "fdb1745c-986e-4023-bcc9-0e63cebc2fa0",
   "metadata": {},
   "outputs": [
    {
     "name": "stdout",
     "output_type": "stream",
     "text": [
      "ViT-L/14 cuda\n",
      "ViT-L/14 cuda\n",
      "ViT-H-14 cuda\n",
      "ViT-H-14 cuda\n",
      "THIS IS NOT WORKING CURRENTLY!\n"
     ]
    },
    {
     "name": "stderr",
     "output_type": "stream",
     "text": [
      "/fsx/home-paulscotti/miniconda3/envs/medical-v1/lib/python3.10/site-packages/torchvision/transforms/_functional_video.py:6: UserWarning: The 'torchvision.transforms._functional_video' module is deprecated since 0.12 and will be removed in the future. Please use the 'torchvision.transforms.functional' module instead.\n",
      "  warnings.warn(\n",
      "/fsx/home-paulscotti/miniconda3/envs/medical-v1/lib/python3.10/site-packages/torchvision/transforms/_transforms_video.py:22: UserWarning: The 'torchvision.transforms._transforms_video' module is deprecated since 0.12 and will be removed in the future. Please use the 'torchvision.transforms' module instead.\n",
      "  warnings.warn(\n"
     ]
    }
   ],
   "source": [
    "# CLIP\n",
    "import clip\n",
    "from torchvision import transforms\n",
    "from models import *\n",
    "clip_extractor = Clipper(\"ViT-L/14\", device=device, hidden_state=True, norm_embs=False)\n",
    "clip_extractor_last = Clipper(\"ViT-L/14\", device=device, hidden_state=False, norm_embs=False)\n",
    "\n",
    "openclip_extractor = OpenClipper('ViT-H-14', device=device, hidden_state=False, norm_embs=False)\n",
    "openclip_extractor_last = OpenClipper('ViT-H-14', device=device, hidden_state=True, norm_embs=False)\n",
    "\n",
    "# ImageBind\n",
    "import sys\n",
    "sys.path.insert(0, \"/fsx/proj-medarc/fmri/ImageBind\")\n",
    "sys.path.insert(0, \"/fsx/proj-medarc/fmri/ImageBind/models\")\n",
    "import data\n",
    "import imagebind_model\n",
    "from imagebind_model import ModalityType\n",
    "\n",
    "imagebind = imagebind_model.imagebind_huge(pretrained=True)\n",
    "imagebind.eval().requires_grad_(False)\n",
    "imagebind.to(device)\n",
    "\n",
    "imagebind_transform = transforms.Compose(\n",
    "    [transforms.Resize(224, interpolation=transforms.InterpolationMode.BICUBIC),\n",
    "    transforms.CenterCrop(224),\n",
    "    transforms.Normalize(\n",
    "        mean=(0.48145466, 0.4578275, 0.40821073),\n",
    "        std=(0.26862954, 0.26130258, 0.27577711))])\n",
    "\n",
    "imagebind_hidden = copy.deepcopy(imagebind)\n",
    "imagebind_hidden.modality_heads.vision = nn.Identity()\n",
    "imagebind_hidden.modality_postprocessors.vision = nn.Identity()\n",
    "imagebind_hidden.eval().requires_grad_(False)\n",
    "imagebind_hidden.to(device)\n",
    "\n",
    "# FCN segmentation model\n",
    "from torchvision.models.feature_extraction import create_feature_extractor, get_graph_node_names\n",
    "from torchvision.models.segmentation import fcn_resnet50, FCN_ResNet50_Weights\n",
    "fcn_weights = FCN_ResNet50_Weights.COCO_WITH_VOC_LABELS_V1\n",
    "fcn_model = create_feature_extractor(fcn_resnet50(weights=fcn_weights), return_nodes=[\"backbone.maxpool\"]).to(device)\n",
    "fcn_model.eval().requires_grad_(False)\n",
    "pass"
   ]
  },
  {
   "cell_type": "markdown",
   "id": "d1d1c47a-898e-45c1-bda9-c4a25e06f51c",
   "metadata": {},
   "source": [
    "Note that the data have already been session-wise z-score normalized and averaged across same-image repetitions! In fsaverage surface space (\"challenge\" space), which may be equivalent to nsdgeneral."
   ]
  },
  {
   "cell_type": "code",
   "execution_count": 3,
   "id": "957f0e43-afa4-4c57-bf83-1c6b504c5f15",
   "metadata": {},
   "outputs": [
    {
     "name": "stdout",
     "output_type": "stream",
     "text": [
      "subj01\n",
      "base_path: /fsx/proj-medarc/fmri/natural-scenes-dataset/algonauts_data/dataset/subj01\n",
      "# training:  9841\n",
      "# test:  159\n"
     ]
    },
    {
     "data": {
      "application/vnd.jupyter.widget-view+json": {
       "model_id": "8a1043d9872444fea387e713272e630d",
       "version_major": 2,
       "version_minor": 0
      },
      "text/plain": [
       "  0%|          | 0/33 [00:00<?, ?it/s]"
      ]
     },
     "metadata": {},
     "output_type": "display_data"
    },
    {
     "name": "stderr",
     "output_type": "stream",
     "text": [
      "/fsx/home-paulscotti/miniconda3/envs/medical-v1/lib/python3.10/site-packages/torchvision/transforms/functional.py:1603: UserWarning: The default value of the antialias parameter of all the resizing transforms (Resize(), RandomResizedCrop(), etc.) will change from None to True in v0.17, in order to be consistent across the PIL and Tensor backends. To suppress this warning, directly pass antialias=True (recommended, future default), antialias=None (current default, which means False for Tensors and True for PIL), or antialias=False (only works on Tensors - PIL will still use antialiasing). This also applies if you are using the inference transforms from the models weights: update the call to weights.transforms(antialias=True).\n",
      "  warnings.warn(\n"
     ]
    },
    {
     "name": "stdout",
     "output_type": "stream",
     "text": [
      "vert (300, 39548)\n",
      "clip_vitl_hidden torch.Size([300, 257, 768])\n",
      "clip_vitl_final torch.Size([300, 768])\n",
      "imagebind_hidden torch.Size([300, 257, 1280])\n",
      "imagebind_final torch.Size([300, 1024])\n",
      "fcn_maxpool torch.Size([300, 64, 107, 107])\n",
      "image (300, 3, 425, 425)\n"
     ]
    },
    {
     "data": {
      "application/vnd.jupyter.widget-view+json": {
       "model_id": "2e88274a2c6743bf8b03d6acada69695",
       "version_major": 2,
       "version_minor": 0
      },
      "text/plain": [
       "  0%|          | 0/1 [00:00<?, ?it/s]"
      ]
     },
     "metadata": {},
     "output_type": "display_data"
    }
   ],
   "source": [
    "for sub in [1]: # [1,2,3,4,5,6,7,8]\n",
    "    #1 2 5 7 are the subjects who completed all trials\n",
    "    subj=f'subj0{sub}'\n",
    "    print(subj)\n",
    "    \n",
    "    seed_everything(0)\n",
    "\n",
    "    samples_per_shard = 300 # samples per tar\n",
    "\n",
    "    base_path = f\"/fsx/proj-medarc/fmri/natural-scenes-dataset/algonauts_data/dataset/{subj}\"\n",
    "    wds_path = base_path + \"/webdataset\"\n",
    "    os.makedirs(wds_path,exist_ok=True)\n",
    "    print(\"base_path:\",base_path)\n",
    "\n",
    "    # number of training samples\n",
    "    files = os.listdir(base_path+\"/training_split/training_images\")\n",
    "    train_png_files = [file for file in files if file.endswith('.png')]\n",
    "    num_train = len(train_png_files)\n",
    "    print(\"# training: \", num_train)\n",
    "    train_imgs = np.array([np.array(Image.open(base_path+\"/training_split/training_images/\"+p)) for p in train_png_files])\n",
    "\n",
    "    lh_fmri = np.load(base_path+\"/training_split/training_fmri/lh_training_fmri.npy\")\n",
    "    rh_fmri = np.load(base_path+\"/training_split/training_fmri/rh_training_fmri.npy\")\n",
    "    train_fmri = np.hstack((lh_fmri,rh_fmri))\n",
    "    \n",
    "    # Shuffle both matrices along the first axis\n",
    "    permutation = np.random.permutation(train_imgs.shape[0])\n",
    "    train_imgs = train_imgs[permutation]\n",
    "    train_fmri = StandardScaler().fit_transform(train_fmri[permutation])\n",
    "\n",
    "    # number of val samples\n",
    "    files = os.listdir(base_path+\"/test_split/test_images\")\n",
    "    test_png_files = [file for file in files if file.endswith('.png')]\n",
    "    num_test = len(test_png_files)\n",
    "    print(\"# test: \", num_test)\n",
    "    test_imgs = np.array([np.array(Image.open(base_path+\"/test_split/test_images/\"+p)) for p in test_png_files])\n",
    "\n",
    "    # train & val\n",
    "    abs_cnt = -1\n",
    "    for idx,i in enumerate(tqdm(range(0, num_train, samples_per_shard))):\n",
    "        cur_imgs = np.moveaxis(train_imgs[i:i+samples_per_shard],-1,1)\n",
    "        cur_imgs_tensor = torch.Tensor(cur_imgs).to(device)\n",
    "        cur_samps = train_fmri[i:i+samples_per_shard]\n",
    "        with torch.no_grad():\n",
    "            clip_emb_hidden = clip_extractor.embed_image(cur_imgs_tensor)\n",
    "            clip_emb_last = clip_extractor_last.embed_image(cur_imgs_tensor)\n",
    "\n",
    "            ib_inputs = {ModalityType.VISION: imagebind_transform(cur_imgs_tensor)}\n",
    "\n",
    "            ib_emb_last = imagebind(ib_inputs)['vision']\n",
    "            ib_emb_hidden = imagebind_hidden(ib_inputs)['vision']\n",
    "\n",
    "            seg_emb = fcn_model(cur_imgs_tensor)['backbone.maxpool']\n",
    "\n",
    "        if idx==0: # val\n",
    "            print(\"vert\",cur_samps.shape)\n",
    "            print(\"clip_vitl_hidden\",clip_emb_hidden.shape)\n",
    "            print(\"clip_vitl_final\",clip_emb_last.shape)\n",
    "            print(\"imagebind_hidden\",ib_emb_hidden.shape)\n",
    "            print(\"imagebind_final\",ib_emb_last.shape)\n",
    "            print(\"fcn_maxpool\",seg_emb.shape)\n",
    "            print(\"image\",cur_imgs.shape)\n",
    "            \n",
    "            os.makedirs(wds_path+\"/val\",exist_ok=True)\n",
    "            sink = wds.TarWriter(wds_path+f\"/val/{subj}_{idx}.tar\")\n",
    "        else:\n",
    "            os.makedirs(wds_path+\"/train\",exist_ok=True)\n",
    "            sink = wds.TarWriter(wds_path+f\"/train/{subj}_{idx-1}.tar\")\n",
    "            \n",
    "        for ii in range(len(cur_samps)):\n",
    "            abs_cnt += 1\n",
    "            sink.write({\n",
    "                \"__key__\": \"sample%09d\" % abs_cnt,\n",
    "                \"vert.npy\": cur_samps[ii],\n",
    "                \"trial.npy\": np.array([i+ii]),\n",
    "                \"clip_vitl_hidden.npy\": clip_emb_hidden[ii].detach().cpu().numpy(),\n",
    "                \"clip_vitl_final.npy\": clip_emb_last[ii].detach().cpu().numpy(),\n",
    "                \"imagebind_hidden.npy\": ib_emb_hidden[ii].detach().cpu().numpy(),\n",
    "                \"imagebind_final.npy\": ib_emb_last[ii].detach().cpu().numpy(),\n",
    "                \"fcn_maxpool.npy\": seg_emb[ii].detach().cpu().numpy(),\n",
    "                \"image.npy\": cur_imgs[ii],\n",
    "            })\n",
    "        sink.close()\n",
    "        \n",
    "    # test\n",
    "    os.makedirs(wds_path+\"/test\",exist_ok=True)\n",
    "    abs_cnt = -1\n",
    "    for idx,i in enumerate(tqdm(range(0, num_test, samples_per_shard))):\n",
    "        sink = wds.TarWriter(wds_path+f\"/test/{subj}_{idx}.tar\")\n",
    "\n",
    "        cur_imgs = np.moveaxis(test_imgs[i:i+samples_per_shard],-1,1)\n",
    "        cur_imgs_tensor = torch.Tensor(cur_imgs).to(device)\n",
    "        with torch.no_grad():\n",
    "            clip_emb_hidden = clip_extractor.embed_image(cur_imgs_tensor)\n",
    "            clip_emb_last = clip_extractor_last.embed_image(cur_imgs_tensor)\n",
    "\n",
    "            ib_inputs = {ModalityType.VISION: imagebind_transform(cur_imgs_tensor)}\n",
    "\n",
    "            ib_emb_last = imagebind(ib_inputs)['vision']\n",
    "            ib_emb_hidden = imagebind_hidden(ib_inputs)['vision']\n",
    "\n",
    "            seg_emb = fcn_model(cur_imgs_tensor)['backbone.maxpool']\n",
    "        \n",
    "        for ii in range(len(cur_imgs)):\n",
    "            abs_cnt += 1\n",
    "            sink.write({\n",
    "                \"__key__\": \"sample%09d\" % abs_cnt,\n",
    "                \"trial.npy\": np.array([i+ii]),\n",
    "                \"clip_vitl_hidden.npy\": clip_emb_hidden[ii].detach().cpu().numpy(),\n",
    "                \"clip_vitl_final.npy\": clip_emb_last[ii].detach().cpu().numpy(),\n",
    "                \"imagebind_hidden.npy\": ib_emb_hidden[ii].detach().cpu().numpy(),\n",
    "                \"imagebind_final.npy\": ib_emb_last[ii].detach().cpu().numpy(),\n",
    "                \"fcn_maxpool.npy\": seg_emb[ii].detach().cpu().numpy(),\n",
    "                \"image.npy\": cur_imgs[ii],\n",
    "            })\n",
    "        sink.close()\n",
    "\n",
    "    # So that we have the info, let's write this to a file\n",
    "    with open(wds_path+f\"/metadata_{subj}.json\", \"w\") as f:    \n",
    "        f.write(json.dumps({\n",
    "            'train': num_train-samples_per_shard,\n",
    "            'val': samples_per_shard,\n",
    "            'test': num_test,\n",
    "            'lh_samps': lh_fmri.shape[-1],\n",
    "            'rh_samps': rh_fmri.shape[-1],\n",
    "            'totals': num_train+num_test, \n",
    "        }, indent=4))"
   ]
  },
  {
   "cell_type": "markdown",
   "id": "c4f5a22b-018a-4db8-a0cb-bc0329bd2564",
   "metadata": {},
   "source": [
    "# Upload to hf"
   ]
  },
  {
   "cell_type": "code",
   "execution_count": 37,
   "id": "305dc3de-27c6-4d28-9f19-a07faa7eaa2e",
   "metadata": {},
   "outputs": [
    {
     "data": {
      "application/vnd.jupyter.widget-view+json": {
       "model_id": "38814f89f6e446109572cd28a264da5d",
       "version_major": 2,
       "version_minor": 0
      },
      "text/plain": [
       "VBox(children=(HTML(value='<center> <img\\nsrc=https://huggingface.co/front/assets/huggingface_logo-noborder.sv…"
      ]
     },
     "metadata": {},
     "output_type": "display_data"
    }
   ],
   "source": [
    "from huggingface_hub import notebook_login, upload_file\n",
    "notebook_login()"
   ]
  },
  {
   "cell_type": "code",
   "execution_count": 38,
   "id": "dadad395-75bb-4296-96d8-f197e5b7e011",
   "metadata": {},
   "outputs": [
    {
     "name": "stdout",
     "output_type": "stream",
     "text": [
      "subj01...\n"
     ]
    },
    {
     "name": "stderr",
     "output_type": "stream",
     "text": [
      "  0%|                                                    | 0/32 [00:00<?, ?it/s]"
     ]
    },
    {
     "data": {
      "application/vnd.jupyter.widget-view+json": {
       "model_id": "ce3bf943569240b1a96f12890ef53a68",
       "version_major": 2,
       "version_minor": 0
      },
      "text/plain": [
       "Upload 1 LFS files:   0%|          | 0/1 [00:00<?, ?it/s]"
      ]
     },
     "metadata": {},
     "output_type": "display_data"
    },
    {
     "data": {
      "application/vnd.jupyter.widget-view+json": {
       "model_id": "91dcc0391f79480f8b2101821d65bd8d",
       "version_major": 2,
       "version_minor": 0
      },
      "text/plain": [
       "subj01_0.tar:   0%|          | 0.00/1.73G [00:00<?, ?B/s]"
      ]
     },
     "metadata": {},
     "output_type": "display_data"
    },
    {
     "name": "stderr",
     "output_type": "stream",
     "text": [
      "  3%|█▍                                          | 1/32 [00:34<17:37, 34.11s/it]"
     ]
    },
    {
     "data": {
      "application/vnd.jupyter.widget-view+json": {
       "model_id": "96e35d39ad714c27adf2e779b3d399f0",
       "version_major": 2,
       "version_minor": 0
      },
      "text/plain": [
       "Upload 1 LFS files:   0%|          | 0/1 [00:00<?, ?it/s]"
      ]
     },
     "metadata": {},
     "output_type": "display_data"
    },
    {
     "data": {
      "application/vnd.jupyter.widget-view+json": {
       "model_id": "51faa3ccd8d74d7f8ab2b3d98bba0c9e",
       "version_major": 2,
       "version_minor": 0
      },
      "text/plain": [
       "subj01_1.tar:   0%|          | 0.00/1.73G [00:00<?, ?B/s]"
      ]
     },
     "metadata": {},
     "output_type": "display_data"
    },
    {
     "name": "stderr",
     "output_type": "stream",
     "text": [
      "  6%|██▊                                         | 2/32 [01:06<16:31, 33.06s/it]"
     ]
    },
    {
     "data": {
      "application/vnd.jupyter.widget-view+json": {
       "model_id": "0f4455353bbe4589968d3ef502b5ef7a",
       "version_major": 2,
       "version_minor": 0
      },
      "text/plain": [
       "Upload 1 LFS files:   0%|          | 0/1 [00:00<?, ?it/s]"
      ]
     },
     "metadata": {},
     "output_type": "display_data"
    },
    {
     "data": {
      "application/vnd.jupyter.widget-view+json": {
       "model_id": "7028658ed07745e8a7b901e46fa69928",
       "version_major": 2,
       "version_minor": 0
      },
      "text/plain": [
       "subj01_2.tar:   0%|          | 0.00/1.73G [00:00<?, ?B/s]"
      ]
     },
     "metadata": {},
     "output_type": "display_data"
    },
    {
     "name": "stderr",
     "output_type": "stream",
     "text": [
      "  9%|████▏                                       | 3/32 [01:38<15:45, 32.62s/it]"
     ]
    },
    {
     "data": {
      "application/vnd.jupyter.widget-view+json": {
       "model_id": "46f02684862d4bab974a3c0e4c96e27b",
       "version_major": 2,
       "version_minor": 0
      },
      "text/plain": [
       "Upload 1 LFS files:   0%|          | 0/1 [00:00<?, ?it/s]"
      ]
     },
     "metadata": {},
     "output_type": "display_data"
    },
    {
     "data": {
      "application/vnd.jupyter.widget-view+json": {
       "model_id": "190b6163a2b4428390aaf5a32b139a0d",
       "version_major": 2,
       "version_minor": 0
      },
      "text/plain": [
       "subj01_3.tar:   0%|          | 0.00/1.73G [00:00<?, ?B/s]"
      ]
     },
     "metadata": {},
     "output_type": "display_data"
    },
    {
     "name": "stderr",
     "output_type": "stream",
     "text": [
      " 12%|█████▌                                      | 4/32 [02:11<15:19, 32.85s/it]"
     ]
    },
    {
     "data": {
      "application/vnd.jupyter.widget-view+json": {
       "model_id": "41c9df4bfc3748d0b5e56a0c4fb4f7b0",
       "version_major": 2,
       "version_minor": 0
      },
      "text/plain": [
       "Upload 1 LFS files:   0%|          | 0/1 [00:00<?, ?it/s]"
      ]
     },
     "metadata": {},
     "output_type": "display_data"
    },
    {
     "data": {
      "application/vnd.jupyter.widget-view+json": {
       "model_id": "0d0465bc1d7a40388afe4e70f993a417",
       "version_major": 2,
       "version_minor": 0
      },
      "text/plain": [
       "subj01_4.tar:   0%|          | 0.00/1.73G [00:00<?, ?B/s]"
      ]
     },
     "metadata": {},
     "output_type": "display_data"
    },
    {
     "name": "stderr",
     "output_type": "stream",
     "text": [
      " 16%|██████▉                                     | 5/32 [02:44<14:43, 32.73s/it]"
     ]
    },
    {
     "data": {
      "application/vnd.jupyter.widget-view+json": {
       "model_id": "aa008e2db055434bb466ad9cd3c90765",
       "version_major": 2,
       "version_minor": 0
      },
      "text/plain": [
       "Upload 1 LFS files:   0%|          | 0/1 [00:00<?, ?it/s]"
      ]
     },
     "metadata": {},
     "output_type": "display_data"
    },
    {
     "data": {
      "application/vnd.jupyter.widget-view+json": {
       "model_id": "721009ccce4140868c0c2a057bad75c4",
       "version_major": 2,
       "version_minor": 0
      },
      "text/plain": [
       "subj01_5.tar:   0%|          | 0.00/1.73G [00:00<?, ?B/s]"
      ]
     },
     "metadata": {},
     "output_type": "display_data"
    },
    {
     "name": "stderr",
     "output_type": "stream",
     "text": [
      " 19%|████████▎                                   | 6/32 [03:19<14:31, 33.54s/it]"
     ]
    },
    {
     "data": {
      "application/vnd.jupyter.widget-view+json": {
       "model_id": "bb37e9e21dd146238c001bda330a5bb4",
       "version_major": 2,
       "version_minor": 0
      },
      "text/plain": [
       "Upload 1 LFS files:   0%|          | 0/1 [00:00<?, ?it/s]"
      ]
     },
     "metadata": {},
     "output_type": "display_data"
    },
    {
     "data": {
      "application/vnd.jupyter.widget-view+json": {
       "model_id": "189bbaf37e424b6595b953d3cd1b0ce3",
       "version_major": 2,
       "version_minor": 0
      },
      "text/plain": [
       "subj01_6.tar:   0%|          | 0.00/1.73G [00:00<?, ?B/s]"
      ]
     },
     "metadata": {},
     "output_type": "display_data"
    },
    {
     "name": "stderr",
     "output_type": "stream",
     "text": [
      " 22%|█████████▋                                  | 7/32 [03:57<14:37, 35.10s/it]"
     ]
    },
    {
     "data": {
      "application/vnd.jupyter.widget-view+json": {
       "model_id": "99c94ef255c9420688fe6665a6d5a7c3",
       "version_major": 2,
       "version_minor": 0
      },
      "text/plain": [
       "subj01_7.tar:   0%|          | 0.00/1.73G [00:00<?, ?B/s]"
      ]
     },
     "metadata": {},
     "output_type": "display_data"
    },
    {
     "data": {
      "application/vnd.jupyter.widget-view+json": {
       "model_id": "927d008bcc5847f1b103243e8567cfb6",
       "version_major": 2,
       "version_minor": 0
      },
      "text/plain": [
       "Upload 1 LFS files:   0%|          | 0/1 [00:00<?, ?it/s]"
      ]
     },
     "metadata": {},
     "output_type": "display_data"
    },
    {
     "name": "stderr",
     "output_type": "stream",
     "text": [
      " 25%|███████████                                 | 8/32 [04:31<13:49, 34.55s/it]"
     ]
    },
    {
     "data": {
      "application/vnd.jupyter.widget-view+json": {
       "model_id": "fe519cd17c2e468e97646d3b6dc61dba",
       "version_major": 2,
       "version_minor": 0
      },
      "text/plain": [
       "Upload 1 LFS files:   0%|          | 0/1 [00:00<?, ?it/s]"
      ]
     },
     "metadata": {},
     "output_type": "display_data"
    },
    {
     "data": {
      "application/vnd.jupyter.widget-view+json": {
       "model_id": "83b9b6c496da42e1955f5d9e025ee1c3",
       "version_major": 2,
       "version_minor": 0
      },
      "text/plain": [
       "subj01_8.tar:   0%|          | 0.00/1.73G [00:00<?, ?B/s]"
      ]
     },
     "metadata": {},
     "output_type": "display_data"
    },
    {
     "name": "stderr",
     "output_type": "stream",
     "text": [
      " 28%|████████████▍                               | 9/32 [05:08<13:35, 35.46s/it]"
     ]
    },
    {
     "data": {
      "application/vnd.jupyter.widget-view+json": {
       "model_id": "9741b2cdc9c64ecb881ace4bb63547b8",
       "version_major": 2,
       "version_minor": 0
      },
      "text/plain": [
       "Upload 1 LFS files:   0%|          | 0/1 [00:00<?, ?it/s]"
      ]
     },
     "metadata": {},
     "output_type": "display_data"
    },
    {
     "data": {
      "application/vnd.jupyter.widget-view+json": {
       "model_id": "666345d8ea7c45e09488a8113e15ab9d",
       "version_major": 2,
       "version_minor": 0
      },
      "text/plain": [
       "subj01_9.tar:   0%|          | 0.00/1.73G [00:00<?, ?B/s]"
      ]
     },
     "metadata": {},
     "output_type": "display_data"
    },
    {
     "name": "stderr",
     "output_type": "stream",
     "text": [
      " 31%|█████████████▍                             | 10/32 [05:45<13:11, 36.00s/it]"
     ]
    },
    {
     "data": {
      "application/vnd.jupyter.widget-view+json": {
       "model_id": "a682fa13953a456bb05c8f4f31a3cdfb",
       "version_major": 2,
       "version_minor": 0
      },
      "text/plain": [
       "subj01_10.tar:   0%|          | 0.00/1.73G [00:00<?, ?B/s]"
      ]
     },
     "metadata": {},
     "output_type": "display_data"
    },
    {
     "data": {
      "application/vnd.jupyter.widget-view+json": {
       "model_id": "61fb467049fa4cffb9cb9bf8da4ac36a",
       "version_major": 2,
       "version_minor": 0
      },
      "text/plain": [
       "Upload 1 LFS files:   0%|          | 0/1 [00:00<?, ?it/s]"
      ]
     },
     "metadata": {},
     "output_type": "display_data"
    },
    {
     "name": "stderr",
     "output_type": "stream",
     "text": [
      " 34%|██████████████▊                            | 11/32 [06:22<12:38, 36.11s/it]"
     ]
    },
    {
     "data": {
      "application/vnd.jupyter.widget-view+json": {
       "model_id": "3af0b92f0dd944edaf253ab91f09f7dc",
       "version_major": 2,
       "version_minor": 0
      },
      "text/plain": [
       "Upload 1 LFS files:   0%|          | 0/1 [00:00<?, ?it/s]"
      ]
     },
     "metadata": {},
     "output_type": "display_data"
    },
    {
     "data": {
      "application/vnd.jupyter.widget-view+json": {
       "model_id": "30412594096f409097e4e07e836c1645",
       "version_major": 2,
       "version_minor": 0
      },
      "text/plain": [
       "subj01_11.tar:   0%|          | 0.00/1.73G [00:00<?, ?B/s]"
      ]
     },
     "metadata": {},
     "output_type": "display_data"
    },
    {
     "name": "stderr",
     "output_type": "stream",
     "text": [
      " 38%|████████████████▏                          | 12/32 [06:56<11:54, 35.75s/it]"
     ]
    },
    {
     "data": {
      "application/vnd.jupyter.widget-view+json": {
       "model_id": "42650740ae01410cbca87020b9e6df15",
       "version_major": 2,
       "version_minor": 0
      },
      "text/plain": [
       "Upload 1 LFS files:   0%|          | 0/1 [00:00<?, ?it/s]"
      ]
     },
     "metadata": {},
     "output_type": "display_data"
    },
    {
     "data": {
      "application/vnd.jupyter.widget-view+json": {
       "model_id": "ef52078c079e4d7f9d0cc27f17bcda5c",
       "version_major": 2,
       "version_minor": 0
      },
      "text/plain": [
       "subj01_12.tar:   0%|          | 0.00/1.73G [00:00<?, ?B/s]"
      ]
     },
     "metadata": {},
     "output_type": "display_data"
    },
    {
     "name": "stderr",
     "output_type": "stream",
     "text": [
      " 41%|█████████████████▍                         | 13/32 [07:29<11:02, 34.88s/it]"
     ]
    },
    {
     "data": {
      "application/vnd.jupyter.widget-view+json": {
       "model_id": "9078a0f26a4147f29c067c08a5446c92",
       "version_major": 2,
       "version_minor": 0
      },
      "text/plain": [
       "subj01_13.tar:   0%|          | 0.00/1.73G [00:00<?, ?B/s]"
      ]
     },
     "metadata": {},
     "output_type": "display_data"
    },
    {
     "data": {
      "application/vnd.jupyter.widget-view+json": {
       "model_id": "3e1c1a3b6146413a8e56cf99e5b65247",
       "version_major": 2,
       "version_minor": 0
      },
      "text/plain": [
       "Upload 1 LFS files:   0%|          | 0/1 [00:00<?, ?it/s]"
      ]
     },
     "metadata": {},
     "output_type": "display_data"
    },
    {
     "name": "stderr",
     "output_type": "stream",
     "text": [
      " 44%|██████████████████▊                        | 14/32 [08:02<10:17, 34.28s/it]"
     ]
    },
    {
     "data": {
      "application/vnd.jupyter.widget-view+json": {
       "model_id": "5e8a012f669741408b86723a3996bfed",
       "version_major": 2,
       "version_minor": 0
      },
      "text/plain": [
       "Upload 1 LFS files:   0%|          | 0/1 [00:00<?, ?it/s]"
      ]
     },
     "metadata": {},
     "output_type": "display_data"
    },
    {
     "data": {
      "application/vnd.jupyter.widget-view+json": {
       "model_id": "19b2dd194a7045539ea08cfa71b572f1",
       "version_major": 2,
       "version_minor": 0
      },
      "text/plain": [
       "subj01_14.tar:   0%|          | 0.00/1.73G [00:00<?, ?B/s]"
      ]
     },
     "metadata": {},
     "output_type": "display_data"
    },
    {
     "name": "stderr",
     "output_type": "stream",
     "text": [
      " 47%|████████████████████▏                      | 15/32 [08:35<09:32, 33.69s/it]"
     ]
    },
    {
     "data": {
      "application/vnd.jupyter.widget-view+json": {
       "model_id": "92422f5ec9dd4408936fef3aa534a6d5",
       "version_major": 2,
       "version_minor": 0
      },
      "text/plain": [
       "Upload 1 LFS files:   0%|          | 0/1 [00:00<?, ?it/s]"
      ]
     },
     "metadata": {},
     "output_type": "display_data"
    },
    {
     "data": {
      "application/vnd.jupyter.widget-view+json": {
       "model_id": "61e92a8cdf3d485b86d20ee025418626",
       "version_major": 2,
       "version_minor": 0
      },
      "text/plain": [
       "subj01_15.tar:   0%|          | 0.00/1.73G [00:00<?, ?B/s]"
      ]
     },
     "metadata": {},
     "output_type": "display_data"
    },
    {
     "name": "stderr",
     "output_type": "stream",
     "text": [
      " 50%|█████████████████████▌                     | 16/32 [09:13<09:20, 35.05s/it]"
     ]
    },
    {
     "data": {
      "application/vnd.jupyter.widget-view+json": {
       "model_id": "de1c2354e5b14c6580c984cd7fb30dfc",
       "version_major": 2,
       "version_minor": 0
      },
      "text/plain": [
       "Upload 1 LFS files:   0%|          | 0/1 [00:00<?, ?it/s]"
      ]
     },
     "metadata": {},
     "output_type": "display_data"
    },
    {
     "data": {
      "application/vnd.jupyter.widget-view+json": {
       "model_id": "6fbcecd3ecad4eb2b37c526f4b9621b6",
       "version_major": 2,
       "version_minor": 0
      },
      "text/plain": [
       "subj01_16.tar:   0%|          | 0.00/1.73G [00:00<?, ?B/s]"
      ]
     },
     "metadata": {},
     "output_type": "display_data"
    },
    {
     "name": "stderr",
     "output_type": "stream",
     "text": [
      " 53%|██████████████████████▊                    | 17/32 [09:47<08:41, 34.79s/it]"
     ]
    },
    {
     "data": {
      "application/vnd.jupyter.widget-view+json": {
       "model_id": "1306725204d847349f3b18f03fbf898c",
       "version_major": 2,
       "version_minor": 0
      },
      "text/plain": [
       "Upload 1 LFS files:   0%|          | 0/1 [00:00<?, ?it/s]"
      ]
     },
     "metadata": {},
     "output_type": "display_data"
    },
    {
     "data": {
      "application/vnd.jupyter.widget-view+json": {
       "model_id": "0ffb400644d948ff9a8e1859599a411c",
       "version_major": 2,
       "version_minor": 0
      },
      "text/plain": [
       "subj01_17.tar:   0%|          | 0.00/1.73G [00:00<?, ?B/s]"
      ]
     },
     "metadata": {},
     "output_type": "display_data"
    },
    {
     "name": "stderr",
     "output_type": "stream",
     "text": [
      " 56%|████████████████████████▏                  | 18/32 [10:22<08:07, 34.81s/it]"
     ]
    },
    {
     "data": {
      "application/vnd.jupyter.widget-view+json": {
       "model_id": "5d99360e5b3d4b8fbe033a5a9252cda5",
       "version_major": 2,
       "version_minor": 0
      },
      "text/plain": [
       "Upload 1 LFS files:   0%|          | 0/1 [00:00<?, ?it/s]"
      ]
     },
     "metadata": {},
     "output_type": "display_data"
    },
    {
     "data": {
      "application/vnd.jupyter.widget-view+json": {
       "model_id": "b96967d3fa4746b7b1a3a2bc6c9d889c",
       "version_major": 2,
       "version_minor": 0
      },
      "text/plain": [
       "subj01_18.tar:   0%|          | 0.00/1.73G [00:00<?, ?B/s]"
      ]
     },
     "metadata": {},
     "output_type": "display_data"
    },
    {
     "name": "stderr",
     "output_type": "stream",
     "text": [
      " 59%|█████████████████████████▌                 | 19/32 [10:57<07:32, 34.83s/it]"
     ]
    },
    {
     "data": {
      "application/vnd.jupyter.widget-view+json": {
       "model_id": "2a5e851117e8484a961a231373062bdd",
       "version_major": 2,
       "version_minor": 0
      },
      "text/plain": [
       "Upload 1 LFS files:   0%|          | 0/1 [00:00<?, ?it/s]"
      ]
     },
     "metadata": {},
     "output_type": "display_data"
    },
    {
     "data": {
      "application/vnd.jupyter.widget-view+json": {
       "model_id": "b9ed97a78a2d4319be8621c1e9b4242f",
       "version_major": 2,
       "version_minor": 0
      },
      "text/plain": [
       "subj01_19.tar:   0%|          | 0.00/1.73G [00:00<?, ?B/s]"
      ]
     },
     "metadata": {},
     "output_type": "display_data"
    },
    {
     "name": "stderr",
     "output_type": "stream",
     "text": [
      " 62%|██████████████████████████▉                | 20/32 [11:31<06:56, 34.70s/it]"
     ]
    },
    {
     "data": {
      "application/vnd.jupyter.widget-view+json": {
       "model_id": "3ddf65cff0804833bb53eaa90efc8684",
       "version_major": 2,
       "version_minor": 0
      },
      "text/plain": [
       "subj01_20.tar:   0%|          | 0.00/1.73G [00:00<?, ?B/s]"
      ]
     },
     "metadata": {},
     "output_type": "display_data"
    },
    {
     "data": {
      "application/vnd.jupyter.widget-view+json": {
       "model_id": "4276dbdf7b5f4bf3a4b5f1f1aa87330f",
       "version_major": 2,
       "version_minor": 0
      },
      "text/plain": [
       "Upload 1 LFS files:   0%|          | 0/1 [00:00<?, ?it/s]"
      ]
     },
     "metadata": {},
     "output_type": "display_data"
    },
    {
     "name": "stderr",
     "output_type": "stream",
     "text": [
      " 66%|████████████████████████████▏              | 21/32 [12:05<06:19, 34.52s/it]"
     ]
    },
    {
     "data": {
      "application/vnd.jupyter.widget-view+json": {
       "model_id": "d2308b18fa66438c85280aa71908bc4c",
       "version_major": 2,
       "version_minor": 0
      },
      "text/plain": [
       "Upload 1 LFS files:   0%|          | 0/1 [00:00<?, ?it/s]"
      ]
     },
     "metadata": {},
     "output_type": "display_data"
    },
    {
     "data": {
      "application/vnd.jupyter.widget-view+json": {
       "model_id": "4aa24e5dc80c4fbcb9e6542db49de96b",
       "version_major": 2,
       "version_minor": 0
      },
      "text/plain": [
       "subj01_21.tar:   0%|          | 0.00/1.73G [00:00<?, ?B/s]"
      ]
     },
     "metadata": {},
     "output_type": "display_data"
    },
    {
     "name": "stderr",
     "output_type": "stream",
     "text": [
      " 69%|█████████████████████████████▌             | 22/32 [12:42<05:51, 35.11s/it]"
     ]
    },
    {
     "data": {
      "application/vnd.jupyter.widget-view+json": {
       "model_id": "8093250e0d4e4d50973b88eca92ac01f",
       "version_major": 2,
       "version_minor": 0
      },
      "text/plain": [
       "Upload 1 LFS files:   0%|          | 0/1 [00:00<?, ?it/s]"
      ]
     },
     "metadata": {},
     "output_type": "display_data"
    },
    {
     "data": {
      "application/vnd.jupyter.widget-view+json": {
       "model_id": "26597adb943641a682bb846820096919",
       "version_major": 2,
       "version_minor": 0
      },
      "text/plain": [
       "subj01_22.tar:   0%|          | 0.00/1.73G [00:00<?, ?B/s]"
      ]
     },
     "metadata": {},
     "output_type": "display_data"
    },
    {
     "name": "stderr",
     "output_type": "stream",
     "text": [
      " 72%|██████████████████████████████▉            | 23/32 [13:20<05:25, 36.13s/it]"
     ]
    },
    {
     "data": {
      "application/vnd.jupyter.widget-view+json": {
       "model_id": "8e33be2f9fa54fe18236426713b3f835",
       "version_major": 2,
       "version_minor": 0
      },
      "text/plain": [
       "Upload 1 LFS files:   0%|          | 0/1 [00:00<?, ?it/s]"
      ]
     },
     "metadata": {},
     "output_type": "display_data"
    },
    {
     "data": {
      "application/vnd.jupyter.widget-view+json": {
       "model_id": "5c4eb4d21d864924b57f26cef2f9a1d3",
       "version_major": 2,
       "version_minor": 0
      },
      "text/plain": [
       "subj01_23.tar:   0%|          | 0.00/1.73G [00:00<?, ?B/s]"
      ]
     },
     "metadata": {},
     "output_type": "display_data"
    },
    {
     "name": "stderr",
     "output_type": "stream",
     "text": [
      " 75%|████████████████████████████████▎          | 24/32 [13:53<04:42, 35.26s/it]"
     ]
    },
    {
     "data": {
      "application/vnd.jupyter.widget-view+json": {
       "model_id": "afe66181a336428cad0c08330693227a",
       "version_major": 2,
       "version_minor": 0
      },
      "text/plain": [
       "Upload 1 LFS files:   0%|          | 0/1 [00:00<?, ?it/s]"
      ]
     },
     "metadata": {},
     "output_type": "display_data"
    },
    {
     "data": {
      "application/vnd.jupyter.widget-view+json": {
       "model_id": "bea2e3b3fd3c406aacf3a7ed07c41ad8",
       "version_major": 2,
       "version_minor": 0
      },
      "text/plain": [
       "subj01_24.tar:   0%|          | 0.00/1.73G [00:00<?, ?B/s]"
      ]
     },
     "metadata": {},
     "output_type": "display_data"
    },
    {
     "name": "stderr",
     "output_type": "stream",
     "text": [
      " 78%|█████████████████████████████████▌         | 25/32 [14:26<04:01, 34.43s/it]"
     ]
    },
    {
     "data": {
      "application/vnd.jupyter.widget-view+json": {
       "model_id": "a0788319b2d842a9a8d0bf90e0ed235e",
       "version_major": 2,
       "version_minor": 0
      },
      "text/plain": [
       "Upload 1 LFS files:   0%|          | 0/1 [00:00<?, ?it/s]"
      ]
     },
     "metadata": {},
     "output_type": "display_data"
    },
    {
     "data": {
      "application/vnd.jupyter.widget-view+json": {
       "model_id": "61b152d1cbe044cab396c875292adce3",
       "version_major": 2,
       "version_minor": 0
      },
      "text/plain": [
       "subj01_25.tar:   0%|          | 0.00/1.73G [00:00<?, ?B/s]"
      ]
     },
     "metadata": {},
     "output_type": "display_data"
    },
    {
     "name": "stderr",
     "output_type": "stream",
     "text": [
      " 81%|██████████████████████████████████▉        | 26/32 [14:58<03:22, 33.78s/it]"
     ]
    },
    {
     "data": {
      "application/vnd.jupyter.widget-view+json": {
       "model_id": "231f6cc0525a4c809678ce7ec614d620",
       "version_major": 2,
       "version_minor": 0
      },
      "text/plain": [
       "Upload 1 LFS files:   0%|          | 0/1 [00:00<?, ?it/s]"
      ]
     },
     "metadata": {},
     "output_type": "display_data"
    },
    {
     "data": {
      "application/vnd.jupyter.widget-view+json": {
       "model_id": "2ed45637ec7946cea2cae2608db3f3a4",
       "version_major": 2,
       "version_minor": 0
      },
      "text/plain": [
       "subj01_26.tar:   0%|          | 0.00/1.73G [00:00<?, ?B/s]"
      ]
     },
     "metadata": {},
     "output_type": "display_data"
    },
    {
     "name": "stderr",
     "output_type": "stream",
     "text": [
      " 84%|████████████████████████████████████▎      | 27/32 [15:30<02:46, 33.25s/it]"
     ]
    },
    {
     "data": {
      "application/vnd.jupyter.widget-view+json": {
       "model_id": "271a98a0dcac455992b9fc19db5e9657",
       "version_major": 2,
       "version_minor": 0
      },
      "text/plain": [
       "Upload 1 LFS files:   0%|          | 0/1 [00:00<?, ?it/s]"
      ]
     },
     "metadata": {},
     "output_type": "display_data"
    },
    {
     "data": {
      "application/vnd.jupyter.widget-view+json": {
       "model_id": "e7bcea3818fa437fb6f16b266c174980",
       "version_major": 2,
       "version_minor": 0
      },
      "text/plain": [
       "subj01_27.tar:   0%|          | 0.00/1.73G [00:00<?, ?B/s]"
      ]
     },
     "metadata": {},
     "output_type": "display_data"
    },
    {
     "name": "stderr",
     "output_type": "stream",
     "text": [
      " 88%|█████████████████████████████████████▋     | 28/32 [16:03<02:12, 33.22s/it]"
     ]
    },
    {
     "data": {
      "application/vnd.jupyter.widget-view+json": {
       "model_id": "7cffd2dc200a4dc582e7e5ac9fdd75d1",
       "version_major": 2,
       "version_minor": 0
      },
      "text/plain": [
       "Upload 1 LFS files:   0%|          | 0/1 [00:00<?, ?it/s]"
      ]
     },
     "metadata": {},
     "output_type": "display_data"
    },
    {
     "data": {
      "application/vnd.jupyter.widget-view+json": {
       "model_id": "37955dcc04764efa88de8c96f8cc20e1",
       "version_major": 2,
       "version_minor": 0
      },
      "text/plain": [
       "subj01_28.tar:   0%|          | 0.00/1.73G [00:00<?, ?B/s]"
      ]
     },
     "metadata": {},
     "output_type": "display_data"
    },
    {
     "name": "stderr",
     "output_type": "stream",
     "text": [
      " 91%|██████████████████████████████████████▉    | 29/32 [16:41<01:43, 34.42s/it]"
     ]
    },
    {
     "data": {
      "application/vnd.jupyter.widget-view+json": {
       "model_id": "5cfd24dc9acf4a1387626da2593a6045",
       "version_major": 2,
       "version_minor": 0
      },
      "text/plain": [
       "Upload 1 LFS files:   0%|          | 0/1 [00:00<?, ?it/s]"
      ]
     },
     "metadata": {},
     "output_type": "display_data"
    },
    {
     "data": {
      "application/vnd.jupyter.widget-view+json": {
       "model_id": "9645d42a4a564df2a7e846e467fe4272",
       "version_major": 2,
       "version_minor": 0
      },
      "text/plain": [
       "subj01_29.tar:   0%|          | 0.00/1.73G [00:00<?, ?B/s]"
      ]
     },
     "metadata": {},
     "output_type": "display_data"
    },
    {
     "name": "stderr",
     "output_type": "stream",
     "text": [
      " 94%|████████████████████████████████████████▎  | 30/32 [17:14<01:08, 34.16s/it]"
     ]
    },
    {
     "data": {
      "application/vnd.jupyter.widget-view+json": {
       "model_id": "27689d84514f4537a3414e9c35052aa2",
       "version_major": 2,
       "version_minor": 0
      },
      "text/plain": [
       "Upload 1 LFS files:   0%|          | 0/1 [00:00<?, ?it/s]"
      ]
     },
     "metadata": {},
     "output_type": "display_data"
    },
    {
     "data": {
      "application/vnd.jupyter.widget-view+json": {
       "model_id": "76549138674749319c9c61e92afc768b",
       "version_major": 2,
       "version_minor": 0
      },
      "text/plain": [
       "subj01_30.tar:   0%|          | 0.00/1.73G [00:00<?, ?B/s]"
      ]
     },
     "metadata": {},
     "output_type": "display_data"
    },
    {
     "name": "stderr",
     "output_type": "stream",
     "text": [
      " 97%|█████████████████████████████████████████▋ | 31/32 [17:49<00:34, 34.29s/it]"
     ]
    },
    {
     "data": {
      "application/vnd.jupyter.widget-view+json": {
       "model_id": "3d4fb89db4774481b133b428bf611c96",
       "version_major": 2,
       "version_minor": 0
      },
      "text/plain": [
       "Upload 1 LFS files:   0%|          | 0/1 [00:00<?, ?it/s]"
      ]
     },
     "metadata": {},
     "output_type": "display_data"
    },
    {
     "data": {
      "application/vnd.jupyter.widget-view+json": {
       "model_id": "15fa4d08205d444ca265e722b35d2d5b",
       "version_major": 2,
       "version_minor": 0
      },
      "text/plain": [
       "subj01_31.tar:   0%|          | 0.00/1.39G [00:00<?, ?B/s]"
      ]
     },
     "metadata": {},
     "output_type": "display_data"
    },
    {
     "name": "stderr",
     "output_type": "stream",
     "text": [
      "100%|███████████████████████████████████████████| 32/32 [18:21<00:00, 34.42s/it]\n"
     ]
    },
    {
     "data": {
      "application/vnd.jupyter.widget-view+json": {
       "model_id": "7c354d72735342a28f6c0693d05000d2",
       "version_major": 2,
       "version_minor": 0
      },
      "text/plain": [
       "Upload 1 LFS files:   0%|          | 0/1 [00:00<?, ?it/s]"
      ]
     },
     "metadata": {},
     "output_type": "display_data"
    },
    {
     "data": {
      "application/vnd.jupyter.widget-view+json": {
       "model_id": "57f42f2db17a42989ab504aa666f4025",
       "version_major": 2,
       "version_minor": 0
      },
      "text/plain": [
       "subj01_0.tar:   0%|          | 0.00/1.73G [00:00<?, ?B/s]"
      ]
     },
     "metadata": {},
     "output_type": "display_data"
    },
    {
     "data": {
      "application/vnd.jupyter.widget-view+json": {
       "model_id": "769b2a3370554f9cbdaecdde6f0657a8",
       "version_major": 2,
       "version_minor": 0
      },
      "text/plain": [
       "Upload 1 LFS files:   0%|          | 0/1 [00:00<?, ?it/s]"
      ]
     },
     "metadata": {},
     "output_type": "display_data"
    },
    {
     "data": {
      "application/vnd.jupyter.widget-view+json": {
       "model_id": "4f17db8ffc2844a9bd4feb2a6b05663e",
       "version_major": 2,
       "version_minor": 0
      },
      "text/plain": [
       "subj01_0.tar:   0%|          | 0.00/890M [00:00<?, ?B/s]"
      ]
     },
     "metadata": {},
     "output_type": "display_data"
    },
    {
     "name": "stdout",
     "output_type": "stream",
     "text": [
      "done!\n"
     ]
    }
   ],
   "source": [
    "from tqdm import tqdm\n",
    "\n",
    "for sub in [0]: #np.arange(8):\n",
    "    subj=f'subj0{sub+1}'\n",
    "    print(f\"{subj}...\")\n",
    "    for tar in tqdm(range(0,32)):\n",
    "        upload_file(\n",
    "            path_or_fileobj=f\"/fsx/proj-medarc/fmri/natural-scenes-dataset/algonauts_data/dataset/{subj}/webdataset/train/{subj}_{tar}.tar\",\n",
    "            path_in_repo=f\"algonauts/train/{subj}_{tar}.tar\",\n",
    "            repo_id=\"pscotti/naturalscenesdataset\",\n",
    "            repo_type=\"dataset\")\n",
    "\n",
    "    tar = 0\n",
    "    upload_file(path_or_fileobj=\n",
    "                f\"/fsx/proj-medarc/fmri/natural-scenes-dataset/algonauts_data/dataset/{subj}/webdataset/val/{subj}_{tar}.tar\",\n",
    "        path_in_repo=f\"algonauts/val/{subj}_{tar}.tar\",\n",
    "        repo_id=\"pscotti/naturalscenesdataset\",\n",
    "        repo_type=\"dataset\")\n",
    "\n",
    "    upload_file(path_or_fileobj=\n",
    "                f\"/fsx/proj-medarc/fmri/natural-scenes-dataset/algonauts_data/dataset/{subj}/webdataset/test/{subj}_{tar}.tar\",\n",
    "        path_in_repo=f\"algonauts/test/{subj}_{tar}.tar\",\n",
    "        repo_id=\"pscotti/naturalscenesdataset\",\n",
    "        repo_type=\"dataset\")\n",
    "\n",
    "    upload_file(\n",
    "    path_or_fileobj=f\"/fsx/proj-medarc/fmri/natural-scenes-dataset/algonauts_data/dataset/{subj}/webdataset/metadata_{subj}.json\",\n",
    "    path_in_repo=f\"algonauts/metadata_{subj}.json\",\n",
    "    repo_id=\"pscotti/naturalscenesdataset\",\n",
    "    repo_type=\"dataset\")\n",
    "\n",
    "    print('done!')"
   ]
  },
  {
   "cell_type": "code",
   "execution_count": null,
   "id": "b3e1d4b1-5bb2-4406-8d33-a63e8efde346",
   "metadata": {},
   "outputs": [],
   "source": []
  }
 ],
 "metadata": {
  "kernelspec": {
   "display_name": "Python 3 (ipykernel)",
   "language": "python",
   "name": "python3"
  },
  "language_info": {
   "codemirror_mode": {
    "name": "ipython",
    "version": 3
   },
   "file_extension": ".py",
   "mimetype": "text/x-python",
   "name": "python",
   "nbconvert_exporter": "python",
   "pygments_lexer": "ipython3",
   "version": "3.10.8"
  }
 },
 "nbformat": 4,
 "nbformat_minor": 5
}
